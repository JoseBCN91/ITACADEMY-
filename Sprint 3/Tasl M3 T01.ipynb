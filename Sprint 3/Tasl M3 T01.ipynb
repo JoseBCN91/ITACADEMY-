{
 "cells": [
  {
   "cell_type": "markdown",
   "id": "a62eb662",
   "metadata": {},
   "source": [
    "## Table of Contents\n",
    "* [Introduction](#Intro)\n",
    "* [Exercice 1](#Ex1)\n",
    "* [Exercice 2](#Ex2)\n",
    "* [Exercice 3](#Ex3)\n",
    "* [Exercice 4](#Ex4)"
   ]
  },
  {
   "cell_type": "markdown",
   "id": "1b2d1cd6",
   "metadata": {},
   "source": [
    "# Introduction <a class=\"anchor\" id=\"Intro\"></a>"
   ]
  },
  {
   "cell_type": "markdown",
   "id": "8b642789",
   "metadata": {},
   "source": [
    "This repository aims to get familiarized with Numpy in the creation of arrays and with the different functions implemented."
   ]
  },
  {
   "cell_type": "markdown",
   "id": "4bb188c2",
   "metadata": {},
   "source": [
    "# Exercice 1 <a class=\"anchor\" id=\"Ex1\"></a>"
   ]
  },
  {
   "cell_type": "markdown",
   "id": "90b0e1c3",
   "metadata": {},
   "source": [
    "## Objective: Implement a function that given a one-dimensional array provides a statistic summary"
   ]
  },
  {
   "cell_type": "code",
   "execution_count": 1,
   "id": "135f22b2",
   "metadata": {},
   "outputs": [],
   "source": [
    "import pandas as pd\n",
    "import numpy as np"
   ]
  },
  {
   "cell_type": "code",
   "execution_count": 4,
   "id": "26434832",
   "metadata": {},
   "outputs": [],
   "source": [
    "def stats_array(array_,freedom=0):\n",
    "    '''\n",
    "    This function returns a statistic summary of a one-dimensional array.\n",
    "    \n",
    "    Parameters\n",
    "    ----------\n",
    "    array_: The array that we want to get the stats. \n",
    "    ddof:   Delta Degrees of Freedom for std. The divisor used in calculations is N - ddof, where N represents the number of elements.\n",
    "            To have the same behaviour as pandas, use ddof=1.\n",
    "    -------\n",
    "    Returns\n",
    "    -------\n",
    "    Error:  If the dimension of the array is larger than 1\n",
    "    statistics: Dictionary with the stats, similar to the describe() function of pandas. \n",
    "\n",
    "    ''' \n",
    "    if array_.ndim >1:\n",
    "        print('Error!')\n",
    "    else:\n",
    "        statistics ={'count':array_.size,'mean':np.mean(array_), 'median': np.median(array_), 'std': np.std(array_,ddof=freedom), 'var': np.var(array_),'min':np.min(array_),'max':np.max(array_), '25%': np.quantile(array_,0.25),'50%': np.quantile(array_,0.5), '75%': np.quantile(array_,0.75)}\n",
    "        return statistics"
   ]
  },
  {
   "cell_type": "code",
   "execution_count": 2,
   "id": "80d8129a",
   "metadata": {},
   "outputs": [
    {
     "name": "stdout",
     "output_type": "stream",
     "text": [
      "[0.75957946 0.10905043 0.18955088 0.56312698 0.96272055 0.45165183\n",
      " 0.751581   0.39598544 0.98393875 0.44099768]\n"
     ]
    }
   ],
   "source": [
    "array_1D=np.random.rand(10)\n",
    "print(array_1D)\n",
    "                                 "
   ]
  },
  {
   "cell_type": "code",
   "execution_count": 5,
   "id": "9902789c",
   "metadata": {},
   "outputs": [
    {
     "data": {
      "text/html": [
       "<div>\n",
       "<style scoped>\n",
       "    .dataframe tbody tr th:only-of-type {\n",
       "        vertical-align: middle;\n",
       "    }\n",
       "\n",
       "    .dataframe tbody tr th {\n",
       "        vertical-align: top;\n",
       "    }\n",
       "\n",
       "    .dataframe thead th {\n",
       "        text-align: right;\n",
       "    }\n",
       "</style>\n",
       "<table border=\"1\" class=\"dataframe\">\n",
       "  <thead>\n",
       "    <tr style=\"text-align: right;\">\n",
       "      <th></th>\n",
       "      <th>ddof=0</th>\n",
       "      <th>ddof=1</th>\n",
       "      <th>Pandas</th>\n",
       "    </tr>\n",
       "  </thead>\n",
       "  <tbody>\n",
       "    <tr>\n",
       "      <th>count</th>\n",
       "      <td>10.000000</td>\n",
       "      <td>10.000000</td>\n",
       "      <td>10.000000</td>\n",
       "    </tr>\n",
       "    <tr>\n",
       "      <th>mean</th>\n",
       "      <td>0.560818</td>\n",
       "      <td>0.560818</td>\n",
       "      <td>0.560818</td>\n",
       "    </tr>\n",
       "    <tr>\n",
       "      <th>median</th>\n",
       "      <td>0.507389</td>\n",
       "      <td>0.507389</td>\n",
       "      <td>NaN</td>\n",
       "    </tr>\n",
       "    <tr>\n",
       "      <th>std</th>\n",
       "      <td>0.284927</td>\n",
       "      <td>0.300340</td>\n",
       "      <td>0.300340</td>\n",
       "    </tr>\n",
       "    <tr>\n",
       "      <th>var</th>\n",
       "      <td>0.081184</td>\n",
       "      <td>0.081184</td>\n",
       "      <td>NaN</td>\n",
       "    </tr>\n",
       "    <tr>\n",
       "      <th>min</th>\n",
       "      <td>0.109050</td>\n",
       "      <td>0.109050</td>\n",
       "      <td>0.109050</td>\n",
       "    </tr>\n",
       "    <tr>\n",
       "      <th>max</th>\n",
       "      <td>0.983939</td>\n",
       "      <td>0.983939</td>\n",
       "      <td>0.983939</td>\n",
       "    </tr>\n",
       "    <tr>\n",
       "      <th>25%</th>\n",
       "      <td>0.407238</td>\n",
       "      <td>0.407238</td>\n",
       "      <td>0.407238</td>\n",
       "    </tr>\n",
       "    <tr>\n",
       "      <th>50%</th>\n",
       "      <td>0.507389</td>\n",
       "      <td>0.507389</td>\n",
       "      <td>0.507389</td>\n",
       "    </tr>\n",
       "    <tr>\n",
       "      <th>75%</th>\n",
       "      <td>0.757580</td>\n",
       "      <td>0.757580</td>\n",
       "      <td>0.757580</td>\n",
       "    </tr>\n",
       "  </tbody>\n",
       "</table>\n",
       "</div>"
      ],
      "text/plain": [
       "           ddof=0     ddof=1     Pandas\n",
       "count   10.000000  10.000000  10.000000\n",
       "mean     0.560818   0.560818   0.560818\n",
       "median   0.507389   0.507389        NaN\n",
       "std      0.284927   0.300340   0.300340\n",
       "var      0.081184   0.081184        NaN\n",
       "min      0.109050   0.109050   0.109050\n",
       "max      0.983939   0.983939   0.983939\n",
       "25%      0.407238   0.407238   0.407238\n",
       "50%      0.507389   0.507389   0.507389\n",
       "75%      0.757580   0.757580   0.757580"
      ]
     },
     "metadata": {},
     "output_type": "display_data"
    }
   ],
   "source": [
    "df1=pd.DataFrame.from_dict(stats_array(array_1D,0), orient='index', columns=['ddof=0'])\n",
    "df2=pd.DataFrame.from_dict(stats_array(array_1D,1), orient='index', columns=['ddof=1'])\n",
    "df3=pd.DataFrame(array_1D, columns=['Pandas']).describe()\n",
    "df=pd.concat([df1, df2,df3], axis=1)\n",
    "display(df)"
   ]
  },
  {
   "cell_type": "markdown",
   "id": "346c795e",
   "metadata": {},
   "source": [
    "As we can observe in the table above, there is some differences between our function, *stats_array()* and the bult-in function of *pandas*, *describe()* which is also based on *NumPy*. This is due to the difference definition of standard desviation that it is used. *Describe* uses the unbiased definition of standard desviation, while numpy by default uses the biased (see above expressions, and [Wikipedia](https://en.wikipedia.org/wiki/Standard_deviation), for more information about the difference between both expressions). In any case, when the sample is large, i.e., $N\\gg1$, both $\\sigma$ converge. Another difference between our function and the *describe()* method is that it does not computes the *variance* nor the *median*.  "
   ]
  },
  {
   "cell_type": "markdown",
   "id": "39b77e50",
   "metadata": {},
   "source": [
    "$$\n",
    "\\begin{align*}\n",
    "s_{\\text{Biased}}=\\sqrt{\\dfrac{1}{N}\\sum_{i=1}^{N}(x_i-\\bar{x})^2}\\\\\n",
    "s_{\\text{Unbiased}}=\\sqrt{\\dfrac{1}{N-1}\\sum_{i=1}^{N}(x_i-\\bar{x})^2} \\\\\n",
    "\\text{If N}\\gg 1:\\\\\n",
    "s_{\\text{Biased}}\\approx s_{\\text{Unbiased}}\n",
    "\\end{align*}\n",
    "$$"
   ]
  },
  {
   "cell_type": "code",
   "execution_count": 262,
   "id": "90959928",
   "metadata": {},
   "outputs": [
    {
     "name": "stdout",
     "output_type": "stream",
     "text": [
      "Error!\n"
     ]
    }
   ],
   "source": [
    "# Verification for a two-dimensional array.\n",
    "array_2D=np.random.rand(2,2)\n",
    "stats_array(array_2D)"
   ]
  },
  {
   "cell_type": "markdown",
   "id": "b4327c94",
   "metadata": {},
   "source": [
    "# Exercice 2 <a class=\"anchor\" id=\"Ex2\"></a>"
   ]
  },
  {
   "cell_type": "markdown",
   "id": "d5361d7b",
   "metadata": {},
   "source": [
    "## Objective: Implement a function that generates a matrix of NxN with random numbers between 0 and 100"
   ]
  },
  {
   "cell_type": "code",
   "execution_count": 8,
   "id": "c44906da",
   "metadata": {},
   "outputs": [],
   "source": [
    "def aleatory_square(n, a=0,b=100):\n",
    "    '''\n",
    "    This function returns a nxm matrix, with aleatory numbers generated between a and b.\n",
    "    ----------   \n",
    "    Parameters\n",
    "    ----------\n",
    "    n: Order of the matrix\n",
    "    a: Minimum value\n",
    "    b: Maximum value\n",
    "    -------\n",
    "    Returns\n",
    "    -------\n",
    "    data: nxn matrix with random numbers between a and b. \n",
    "\n",
    "    ''' \n",
    "    data=(b-a) * np.random.random_sample((n, n)) +a\n",
    "    return data"
   ]
  },
  {
   "cell_type": "code",
   "execution_count": 9,
   "id": "784a0815",
   "metadata": {},
   "outputs": [
    {
     "data": {
      "text/plain": [
       "array([[30.21439404, 71.5907391 , 61.62391089],\n",
       "       [39.56958334, 22.2003051 , 84.50479783],\n",
       "       [59.88816724, 54.50984389,  1.18805084]])"
      ]
     },
     "execution_count": 9,
     "metadata": {},
     "output_type": "execute_result"
    }
   ],
   "source": [
    "aleatory_square(3)"
   ]
  },
  {
   "cell_type": "markdown",
   "id": "9e1e9fb7",
   "metadata": {},
   "source": [
    "# Exercice 3 <a class=\"anchor\" id=\"Ex3\"></a>"
   ]
  },
  {
   "cell_type": "markdown",
   "id": "1a05c012",
   "metadata": {},
   "source": [
    "## Objective: Implement a function that computes the sum  of the rows or of the columns "
   ]
  },
  {
   "cell_type": "code",
   "execution_count": 38,
   "id": "a047e783",
   "metadata": {},
   "outputs": [],
   "source": [
    "def colsum_or_rowsum(array):\n",
    "    '''\n",
    "    This function returns the sum per rows and columns\n",
    "    ----------   \n",
    "    Parameters\n",
    "    ----------\n",
    "    array: Array we want to calculate the sum per rows and columns\n",
    "    -------\n",
    "    Returns\n",
    "    -------\n",
    "    sum_rowandcol: Dictionary made with col_sum (sum per columns) and col_row (sum per rows)\n",
    "\n",
    "    ''' \n",
    "    col_sum=np.sum(array, axis=0)\n",
    "    row_sum=np.sum(array, axis=1)\n",
    "    sum_rowandcol={'row_sum': row_sum, 'col_sum':col_sum}\n",
    "    return sum_rowandcol"
   ]
  },
  {
   "cell_type": "code",
   "execution_count": 39,
   "id": "1cdbd163",
   "metadata": {},
   "outputs": [
    {
     "data": {
      "text/plain": [
       "array([[0.03889757, 0.42148537, 0.65037423],\n",
       "       [0.02186968, 0.02311517, 0.83864787],\n",
       "       [0.10628379, 0.77943666, 0.09943537]])"
      ]
     },
     "execution_count": 39,
     "metadata": {},
     "output_type": "execute_result"
    }
   ],
   "source": [
    "array_2D=np.random.rand(3,3)\n",
    "array_2D"
   ]
  },
  {
   "cell_type": "code",
   "execution_count": 40,
   "id": "5e746899",
   "metadata": {},
   "outputs": [
    {
     "data": {
      "text/plain": [
       "{'row_sum': array([1.11075717, 0.88363271, 0.98515582]),\n",
       " 'col_sum': array([0.16705103, 1.2240372 , 1.58845747])}"
      ]
     },
     "execution_count": 40,
     "metadata": {},
     "output_type": "execute_result"
    }
   ],
   "source": [
    "colsum_or_rowsum(array_2D)"
   ]
  },
  {
   "cell_type": "markdown",
   "id": "4d5e4670",
   "metadata": {},
   "source": [
    "# Exercice 4 <a class=\"anchor\" id=\"Ex4\"></a>"
   ]
  },
  {
   "cell_type": "markdown",
   "id": "08075c2e",
   "metadata": {},
   "source": [
    "## Objective: Implement a function that calculates the Pearson coefficient"
   ]
  },
  {
   "cell_type": "markdown",
   "id": "2d0f56fc",
   "metadata": {},
   "source": [
    "## Introduction"
   ]
  },
  {
   "attachments": {
    "imagen-2.png": {
     "image/png": "[encoded data removed]"
    },
    "imagen-3.png": {
     "image/png": "[encoded data removed]"
    },
    "imagen.png": {
     "image/png": "[encoded data removed]"
    }
   },
   "cell_type": "markdown",
   "id": "15e99100",
   "metadata": {},
   "source": [
    "Correlation is the statistical analysis of the relationship between two variables. The study of the correlation between two set of variables allow us to adress the strength and the direction of the relationship between them.\n",
    "\n",
    "Correlations have many real-world applications. They can help us answer questions, such as whether there is a link between the use of cars and the level of air pollution of Barcelona or if there's a link between the historical GDP of a country and the evolution of the salary the citizens. \n",
    "\n",
    "The study of correlation is essential in many data science tasks. It is a key component in data exploratory analysis; the initial study we conduct in our data to see how it looks, to summarize its main characteristics, and to discover partners and anomalies. Finally, correlation also plays a critical role on machine learning algorithms, as some algorithms do not work properlty if two variables or more are closeley correlated. \n",
    "\n",
    "There are different types of correlation: \n",
    "1. Positive Correlation: Two variables are positively correlated when their values change in the same direction. For example, in the image below, as the value for X increases, so does the value for Y at a constant rate.\n",
    "\n",
    "![imagen.png](attachment:imagen.png)\n",
    "\n",
    "\n",
    "2. Neutral Correlation: The change of the two variables are independent.\n",
    "\n",
    "![imagen-2.png](attachment:imagen-2.png)\n",
    "\n",
    "3. Negative correlation: Two variables are negative correlated when their values change in opposite directions.For example, in the image below, as the value for X increases,  the value of  Y decreases at a constant rate. \n",
    "\n",
    "![imagen-3.png](attachment:imagen-3.png)\n"
   ]
  },
  {
   "cell_type": "markdown",
   "id": "92307c01",
   "metadata": {},
   "source": [
    "There are different coefficient to calculate the correlation, being the *Pearson coeffiecient*, one of the most widely used:"
   ]
  },
  {
   "cell_type": "markdown",
   "id": "1ecc3b21",
   "metadata": {},
   "source": [
    "$$ \n",
    "r_{\\text{Pearson}}=\\dfrac{\\sum_{i=1}^{N}(x_i-\\bar{x})(y_i-\\bar{y})}{\\sqrt{\\sum_{i=1}^{N}(x_i-\\bar{x})^2\\sum_{i=1}^{N}(y_i-\\bar{y})^2}}\n",
    "$$"
   ]
  },
  {
   "cell_type": "code",
   "execution_count": 27,
   "id": "acc532ed",
   "metadata": {},
   "outputs": [],
   "source": [
    "def corr_pearson(array):\n",
    "    x=array[0]\n",
    "    y=array[1]\n",
    "    r=np.sum((x-np.mean(x))*(y-np.mean(y)))/np.sqrt(np.sum((x-np.mean(x))**2)*np.sum((y-np.mean(y))**2))\n",
    "    \n",
    "    return 'The Pearson coefficient is: '+str(r) "
   ]
  },
  {
   "cell_type": "code",
   "execution_count": 25,
   "id": "5f54305d",
   "metadata": {},
   "outputs": [
    {
     "data": {
      "text/plain": [
       "'The Pearson coefficient is:-0.03811479623318882'"
      ]
     },
     "execution_count": 25,
     "metadata": {},
     "output_type": "execute_result"
    }
   ],
   "source": [
    "array_2D=np.random.rand(2,100)\n",
    "\n",
    "corr_pearson(array_2D)"
   ]
  },
  {
   "cell_type": "markdown",
   "id": "5d5cc451",
   "metadata": {},
   "source": [
    "We may compare our result with the one provided by the *corrcoef* function implemented in Numpy. In this case, the output is the correlation matrix, and the correlation coefficient that we are interested to are the ones of the secondary diagonal. Hence we select the element [0][1] of the correlation matrix: "
   ]
  },
  {
   "cell_type": "code",
   "execution_count": 37,
   "id": "59308f0b",
   "metadata": {},
   "outputs": [
    {
     "name": "stdout",
     "output_type": "stream",
     "text": [
      "The Pearson coefficient with the Numpy function is: -0.03811479623318882\n"
     ]
    }
   ],
   "source": [
    "print('The Pearson coefficient with the Numpy function is: '+str(np.corrcoef(array_2D)[0][1]))"
   ]
  },
  {
   "cell_type": "markdown",
   "id": "ed600c1f",
   "metadata": {},
   "source": [
    "As expected, the *Pearson correlation factor* computed by our function and the one implemented in *Numpy* is the same."
   ]
  },
  {
   "cell_type": "markdown",
   "id": "f0c3b306",
   "metadata": {},
   "source": [
    "### Example: Experience vs salary data"
   ]
  },
  {
   "cell_type": "code",
   "execution_count": 31,
   "id": "be11767f",
   "metadata": {},
   "outputs": [],
   "source": [
    "experience = [1, 3, 4, 5, 5, 6, 7, 10, 11, 12, 15, 20, 25, 28, 30, 35]\n",
    "\n",
    "salary = [20000, 30000, 40000, 45000, 55000, 60000, 80000, 100000, 130000, 150000, 200000, 230000, 250000, 300000, 350000, 400000]"
   ]
  },
  {
   "cell_type": "code",
   "execution_count": 192,
   "id": "d0c5f4a7",
   "metadata": {},
   "outputs": [
    {
     "data": {
      "image/png": "[encoded data removed]",
      "text/plain": [
       "<Figure size 432x288 with 1 Axes>"
      ]
     },
     "metadata": {
      "needs_background": "light"
     },
     "output_type": "display_data"
    }
   ],
   "source": [
    "from matplotlib import pyplot as plt \n",
    "\n",
    "plt.scatter(experience,salary)\n",
    "plt.xlabel('Years of experience')\n",
    "plt.ylabel('Salary €')\n",
    "plt.ylim(0,500000)\n",
    "plt.show()"
   ]
  },
  {
   "cell_type": "markdown",
   "id": "0169019e",
   "metadata": {},
   "source": [
    "The representation of the data shows a positive linear response, suggesting a strong and positive correlation. Let's compute it: "
   ]
  },
  {
   "cell_type": "code",
   "execution_count": 32,
   "id": "0c260dd1",
   "metadata": {},
   "outputs": [],
   "source": [
    "test_pearson_2=np.array([experience,salary])"
   ]
  },
  {
   "cell_type": "code",
   "execution_count": 33,
   "id": "50ed7d17",
   "metadata": {},
   "outputs": [
    {
     "data": {
      "text/plain": [
       "'The Pearson coefficient is: 0.9929845761480398'"
      ]
     },
     "execution_count": 33,
     "metadata": {},
     "output_type": "execute_result"
    }
   ],
   "source": [
    "corr_pearson(test_pearson_2)"
   ]
  },
  {
   "cell_type": "code",
   "execution_count": 36,
   "id": "3e69a0c2",
   "metadata": {},
   "outputs": [
    {
     "name": "stdout",
     "output_type": "stream",
     "text": [
      "The Pearson coefficient with the Numpy function is: 0.9929845761480398\n"
     ]
    }
   ],
   "source": [
    "print('The Pearson coefficient with the Numpy function is: '+str(np.corrcoef(test_pearson_2)[0][1]))"
   ]
  }
 ],
 "metadata": {
  "kernelspec": {
   "display_name": "Python 3 (ipykernel)",
   "language": "python",
   "name": "python3"
  },
  "language_info": {
   "codemirror_mode": {
    "name": "ipython",
    "version": 3
   },
   "file_extension": ".py",
   "mimetype": "text/x-python",
   "name": "python",
   "nbconvert_exporter": "python",
   "pygments_lexer": "ipython3",
   "version": "3.9.12"
  }
 },
 "nbformat": 4,
 "nbformat_minor": 5
}
