{
 "cells": [
  {
   "cell_type": "markdown",
   "id": "bec04068",
   "metadata": {},
   "source": [
    "# Taks M2 T01"
   ]
  },
  {
   "cell_type": "markdown",
   "id": "69c7a128",
   "metadata": {},
   "source": [
    "## Table of Contents\n",
    "* [Introduction](#Intro)\n",
    "* [Tasks 1 & 2](#Ex1)\n",
    "* [Task 3](#Ex3)\n",
    "* [Task 4](#Ex4)"
   ]
  },
  {
   "cell_type": "markdown",
   "id": "ff13d25d",
   "metadata": {},
   "source": [
    "# Introduction <a class=\"anchor\" id=\"Intro\"></a>"
   ]
  },
  {
   "cell_type": "markdown",
   "id": "b4801eaa",
   "metadata": {},
   "source": [
    "This notebook shows some basic exercises related with the creation and manipulation of lists and dictionaries. "
   ]
  },
  {
   "cell_type": "markdown",
   "id": "d38d922b",
   "metadata": {},
   "source": [
    "# Task 1 & 2 <a class=\"anchor\" id=\"Ex1\"></a>"
   ]
  },
  {
   "cell_type": "markdown",
   "id": "44992735",
   "metadata": {},
   "source": [
    "### Objective: Create a list that groups the months of the year into quarters and select some elements"
   ]
  },
  {
   "cell_type": "code",
   "execution_count": 128,
   "id": "dedb3aa8",
   "metadata": {},
   "outputs": [
    {
     "data": {
      "text/plain": [
       "{'1T': ['January', 'February', 'March'],\n",
       " '2T': ['April', 'May', 'June'],\n",
       " '3T': ['July', 'Augoust', 'September'],\n",
       " '4T': ['October', 'November', 'December']}"
      ]
     },
     "metadata": {},
     "output_type": "display_data"
    }
   ],
   "source": [
    "months_in_quarters={'1T':['January','February','March'], '2T': ['April','May', 'June'], '3T':['July', 'Augoust','September'], '4T':['October','November', 'December']}\n",
    "display(months_in_quarters)"
   ]
  },
  {
   "cell_type": "code",
   "execution_count": 129,
   "id": "53d9f0fa",
   "metadata": {},
   "outputs": [
    {
     "name": "stdout",
     "output_type": "stream",
     "text": [
      "The second month of the first quarter is: February\n"
     ]
    }
   ],
   "source": [
    "\n",
    "print('The second month of the first quarter is: '+str((months_in_quarters['1T'][1])))"
   ]
  },
  {
   "cell_type": "code",
   "execution_count": 130,
   "id": "0aa77b84",
   "metadata": {},
   "outputs": [
    {
     "data": {
      "text/plain": [
       "['January', 'February', 'March']"
      ]
     },
     "metadata": {},
     "output_type": "display_data"
    },
    {
     "name": "stdout",
     "output_type": "stream",
     "text": [
      "The the months of the first quarter are: ['January', 'February', 'March']\n"
     ]
    }
   ],
   "source": [
    "print('The months of the first quarter are: '+str((months_in_quarters['1T'])))"
   ]
  },
  {
   "cell_type": "code",
   "execution_count": 137,
   "id": "45077ad8",
   "metadata": {},
   "outputs": [
    {
     "name": "stdout",
     "output_type": "stream",
     "text": [
      "The last month of the third quarter and the first month of the fourth quarter are: September and October\n"
     ]
    }
   ],
   "source": [
    "print('The last month of the third quarter and the first month of the fourth quarter are: '+str(months_in_quarters['3T'][2])+' and ' + str(months_in_quarters['4T'][0]))"
   ]
  },
  {
   "cell_type": "markdown",
   "id": "86bb87d3",
   "metadata": {},
   "source": [
    "# Task 3 <a class=\"anchor\" id=\"Ex3\"></a> "
   ]
  },
  {
   "cell_type": "markdown",
   "id": "bca79df9",
   "metadata": {},
   "source": [
    "### Objective: Generate a list of aleatory numbers and answer some questions"
   ]
  },
  {
   "cell_type": "code",
   "execution_count": 149,
   "id": "96762b3b",
   "metadata": {},
   "outputs": [],
   "source": [
    "#Import random and Numpy:\n",
    "import random\n",
    "import numpy as np\n",
    "\n",
    "n=500 # Number of aleatory numbers\n",
    "max_number=1000 # Maximum value that the aleatory number can achieve\n",
    "min_number=1  # Minimum value that the aleatory number can achieve\n",
    "\n",
    "random_numberlist = list(np.random.randint(low = min_number,high=max_number,size=n))"
   ]
  },
  {
   "cell_type": "code",
   "execution_count": 113,
   "id": "5a30cf6c",
   "metadata": {},
   "outputs": [
    {
     "data": {
      "text/plain": [
       "<seaborn.axisgrid.FacetGrid at 0x24287429490>"
      ]
     },
     "execution_count": 113,
     "metadata": {},
     "output_type": "execute_result"
    },
    {
     "data": {
      "image/png": "[encoded data removed]",
      "text/plain": [
       "<Figure size 360x360 with 1 Axes>"
      ]
     },
     "metadata": {
      "needs_background": "light"
     },
     "output_type": "display_data"
    }
   ],
   "source": [
    "import seaborn as sns\n",
    "\n",
    "ax =sns.displot(random_numberlist, binwidth=5)\n",
    "ax.set(xlabel='Numbers', ylabel='Count (a.u.)')"
   ]
  },
  {
   "cell_type": "markdown",
   "id": "8b979d50",
   "metadata": {},
   "source": [
    "As it can be observed in the distribution plot, the counts are uniformly distributed. "
   ]
  },
  {
   "cell_type": "markdown",
   "id": "6ed70456",
   "metadata": {},
   "source": [
    "1. **How many numbers are there**?"
   ]
  },
  {
   "cell_type": "code",
   "execution_count": 114,
   "id": "0deccfbb",
   "metadata": {},
   "outputs": [
    {
     "name": "stdout",
     "output_type": "stream",
     "text": [
      "The random_numberlist list has 500 numbers\n"
     ]
    }
   ],
   "source": [
    "print('The random_numberlist list has '+str(len(random_numberlist))+' numbers')"
   ]
  },
  {
   "cell_type": "markdown",
   "id": "f6f177ab",
   "metadata": {},
   "source": [
    "2. **How many times the number 3 appears**?"
   ]
  },
  {
   "cell_type": "code",
   "execution_count": 162,
   "id": "7dc6cc64",
   "metadata": {},
   "outputs": [
    {
     "name": "stdout",
     "output_type": "stream",
     "text": [
      "The random_numberlist list has 1 times 3\n"
     ]
    }
   ],
   "source": [
    "print('The random_numberlist list has '+str(random_numberlist.count(3))+' times'+' 3') "
   ]
  },
  {
   "cell_type": "markdown",
   "id": "baefd3c1",
   "metadata": {},
   "source": [
    "3. **How many times the number 3 and 4 appears?**"
   ]
  },
  {
   "cell_type": "code",
   "execution_count": 161,
   "id": "a39ac126",
   "metadata": {},
   "outputs": [
    {
     "name": "stdout",
     "output_type": "stream",
     "text": [
      "The random_numberlist list has 2 times 3 or 4\n"
     ]
    }
   ],
   "source": [
    "print('The random_numberlist list has '+str(random_numberlist.count(3)+random_numberlist.count(4))+' times'+' 3 or 4' ) "
   ]
  },
  {
   "cell_type": "markdown",
   "id": "c9bbd85b",
   "metadata": {},
   "source": [
    "4. **What is the largest number?**"
   ]
  },
  {
   "cell_type": "code",
   "execution_count": 160,
   "id": "c2343c0e",
   "metadata": {},
   "outputs": [
    {
     "name": "stdout",
     "output_type": "stream",
     "text": [
      "The largest number of the random_numberlist is: 997\n"
     ]
    }
   ],
   "source": [
    "print('The largest number of the random_numberlist is: ' +str(max(random_numberlist)))"
   ]
  },
  {
   "cell_type": "markdown",
   "id": "8d3a8e84",
   "metadata": {},
   "source": [
    "5. **What are the smallest three numbers?**"
   ]
  },
  {
   "cell_type": "code",
   "execution_count": 158,
   "id": "9e47e9bd",
   "metadata": {},
   "outputs": [
    {
     "name": "stdout",
     "output_type": "stream",
     "text": [
      "The 3 smallest numbers are: [2, 3, 4]\n"
     ]
    }
   ],
   "source": [
    "print('The 3 smallest numbers are: '+str(sorted(random_numberlist)[:3]))"
   ]
  },
  {
   "cell_type": "markdown",
   "id": "98b8fe36",
   "metadata": {},
   "source": [
    "6. **What is the range of this list?**"
   ]
  },
  {
   "cell_type": "code",
   "execution_count": 159,
   "id": "13c037f4",
   "metadata": {},
   "outputs": [
    {
     "name": "stdout",
     "output_type": "stream",
     "text": [
      "The range of the list is: 995\n"
     ]
    }
   ],
   "source": [
    "print('The range of the list is: '+str(max(random_numberlist)-min(random_numberlist)))"
   ]
  },
  {
   "cell_type": "markdown",
   "id": "e889b69d",
   "metadata": {},
   "source": [
    "# Task 4 <a class=\"anchor\" id=\"Ex4\"></a> "
   ]
  },
  {
   "cell_type": "markdown",
   "id": "b2c8a60b",
   "metadata": {},
   "source": [
    " ### Objective: Generate a dictionary and answer some questions"
   ]
  },
  {
   "cell_type": "code",
   "execution_count": 7,
   "id": "0628090b",
   "metadata": {},
   "outputs": [],
   "source": [
    "#Generate the dictionary called shopping: \n",
    "\n",
    "shopping={ \"Pomes\" : {\"Qty\": 5, \"€\": 0.42}, \"Peres\" : {\"Qty\": 3, \"€\": 0.66} }"
   ]
  },
  {
   "cell_type": "code",
   "execution_count": 8,
   "id": "22107959",
   "metadata": {},
   "outputs": [
    {
     "name": "stdout",
     "output_type": "stream",
     "text": [
      "{'Pomes': {'Qty': 5, '€': 0.42}, 'Peres': {'Qty': 3, '€': 0.66}}\n"
     ]
    }
   ],
   "source": [
    "print(shopping)"
   ]
  },
  {
   "cell_type": "markdown",
   "id": "86f814af",
   "metadata": {},
   "source": [
    "1. **Add another fruit**"
   ]
  },
  {
   "cell_type": "code",
   "execution_count": 9,
   "id": "2e69732e",
   "metadata": {},
   "outputs": [],
   "source": [
    "shopping['Platans']={\"Qty\": 10, \"€\": 1}"
   ]
  },
  {
   "cell_type": "code",
   "execution_count": 10,
   "id": "b850c467",
   "metadata": {},
   "outputs": [
    {
     "name": "stdout",
     "output_type": "stream",
     "text": [
      "{'Pomes': {'Qty': 5, '€': 0.42}, 'Peres': {'Qty': 3, '€': 0.66}, 'Platans': {'Qty': 10, '€': 1}}\n"
     ]
    }
   ],
   "source": [
    "print(shopping)"
   ]
  },
  {
   "cell_type": "markdown",
   "id": "ac734a50",
   "metadata": {},
   "source": [
    "2. **How much did the pears cost?**"
   ]
  },
  {
   "cell_type": "markdown",
   "id": "1e3f34b2",
   "metadata": {},
   "source": [
    "The pears cost will be the number of pears times the price a pear:"
   ]
  },
  {
   "cell_type": "code",
   "execution_count": 11,
   "id": "e2ab5dfc",
   "metadata": {},
   "outputs": [
    {
     "name": "stdout",
     "output_type": "stream",
     "text": [
      "The pears cost: 1.98€\n"
     ]
    }
   ],
   "source": [
    "pears_cost=shopping['Peres']['Qty']*shopping['Peres']['€']\n",
    "print('The pears cost: '+str(pears_cost)+'\\N{euro sign}')"
   ]
  },
  {
   "cell_type": "markdown",
   "id": "4519c83a",
   "metadata": {},
   "source": [
    "3. **How many fruits did we buy?**"
   ]
  },
  {
   "cell_type": "markdown",
   "id": "dd3791cb",
   "metadata": {},
   "source": [
    "The total number of fruits will be the number of keys that the dictionary shopping has:"
   ]
  },
  {
   "cell_type": "code",
   "execution_count": 12,
   "id": "e4ecd837",
   "metadata": {},
   "outputs": [
    {
     "name": "stdout",
     "output_type": "stream",
     "text": [
      "The number of fruits that we bought are: 3 fruits\n"
     ]
    }
   ],
   "source": [
    "print('The number of fruits that we bought are: '+str(len(shopping.keys()))+' fruits')"
   ]
  },
  {
   "cell_type": "markdown",
   "id": "c6609260",
   "metadata": {},
   "source": [
    "4. **What is the most expensive fruit?**"
   ]
  },
  {
   "cell_type": "markdown",
   "id": "4e5508bf",
   "metadata": {},
   "source": [
    "First, we will select the most expensive fruit: "
   ]
  },
  {
   "cell_type": "code",
   "execution_count": 14,
   "id": "5ae73d0f",
   "metadata": {
    "scrolled": true
   },
   "outputs": [
    {
     "name": "stdout",
     "output_type": "stream",
     "text": [
      "The most expensive fruit is: Platans\n"
     ]
    }
   ],
   "source": [
    "max_key=max(shopping, key=lambda key: shopping[key]['€'])\n",
    "print('The most expensive fruit is: '+ str(max_key))"
   ]
  },
  {
   "cell_type": "code",
   "execution_count": 16,
   "id": "26767cc4",
   "metadata": {},
   "outputs": [
    {
     "name": "stdout",
     "output_type": "stream",
     "text": [
      "The cost of the most expensive fruit is: 1€\n"
     ]
    }
   ],
   "source": [
    "# We select the cost of the fruit most expensive.\n",
    "max_cost=shopping[max_key]['€']\n",
    "print('The cost of the most expensive fruit is: '+ str(max_cost)+'\\N{euro sign}')"
   ]
  },
  {
   "cell_type": "code",
   "execution_count": 17,
   "id": "34313550",
   "metadata": {},
   "outputs": [
    {
     "name": "stdout",
     "output_type": "stream",
     "text": [
      "The most expensive fruit is: Platans which costs 1€/unit\n"
     ]
    }
   ],
   "source": [
    "print('The most expensive fruit is: '+str(max_key)+' which costs ' +str(max_cost)+'\\N{euro sign}/unit')"
   ]
  }
 ],
 "metadata": {
  "kernelspec": {
   "display_name": "Python 3 (ipykernel)",
   "language": "python",
   "name": "python3"
  },
  "language_info": {
   "codemirror_mode": {
    "name": "ipython",
    "version": 3
   },
   "file_extension": ".py",
   "mimetype": "text/x-python",
   "name": "python",
   "nbconvert_exporter": "python",
   "pygments_lexer": "ipython3",
   "version": "3.9.12"
  }
 },
 "nbformat": 4,
 "nbformat_minor": 5
}
