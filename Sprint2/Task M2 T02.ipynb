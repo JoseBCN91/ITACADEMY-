{
 "cells": [
  {
   "cell_type": "markdown",
   "id": "d5f7a463",
   "metadata": {},
   "source": [
    "# Taks M2 T02"
   ]
  },
  {
   "cell_type": "markdown",
   "id": "26ae787c",
   "metadata": {},
   "source": [
    "## Table of Contents\n",
    "* [Introduction](#Intro)\n",
    "* [Task 1](#Ex1)\n",
    "* [Task 2](#Ex2)\n",
    "* [Task 3](#Ex3)\n",
    "* [Task 4](#Ex4)\n",
    "* [Task 5](#Ex5)"
   ]
  },
  {
   "cell_type": "markdown",
   "id": "48059258",
   "metadata": {},
   "source": [
    "# Task 1 <a class=\"anchor\" id=\"Ex1\"></a>"
   ]
  },
  {
   "cell_type": "markdown",
   "id": "54cedcf6",
   "metadata": {},
   "source": [
    "### Objective:  This exercice aims to classify a given list with marks"
   ]
  },
  {
   "cell_type": "code",
   "execution_count": 1,
   "id": "b18de841",
   "metadata": {},
   "outputs": [],
   "source": [
    "#Import random package\n",
    "import random\n",
    "import numpy as np"
   ]
  },
  {
   "cell_type": "markdown",
   "id": "4a8f4b97",
   "metadata": {},
   "source": [
    "We generate a random list of *marks* using  *numpy.random.randint* function. The list consists of 50 numbers (i.e., 50 students) which range between 0 and 10:"
   ]
  },
  {
   "cell_type": "code",
   "execution_count": 2,
   "id": "d9b9bf62",
   "metadata": {},
   "outputs": [],
   "source": [
    "marks=list(np.random.randint(low = 0,high=10,size=50))"
   ]
  },
  {
   "cell_type": "code",
   "execution_count": 3,
   "id": "8fffb2be",
   "metadata": {},
   "outputs": [],
   "source": [
    "def grades_classificator(list):\n",
    "    '''\n",
    "    This function classifies the marks into Unsatisfcatory, Satisfactory, Good, and Excellent.\n",
    "    \n",
    "    \n",
    "    Parameters\n",
    "    ----------\n",
    "    list: List of marks\n",
    "    -------\n",
    "    Returns \n",
    "    -------\n",
    "    grades_classification: List with the assigned grades. \n",
    "    \n",
    "    '''\n",
    "    \n",
    "    grades_classification=[]\n",
    "    grades_list=['Very unsatisfactory','Unsatisfactory','Satisfactory','Good','Excellent']\n",
    "    for x in list:\n",
    "        if x in range(0,3): \n",
    "            x=grades_list[0]\n",
    "        elif x in range(3,5): \n",
    "            x=grades_list[1]\n",
    "        elif x in range(5,7):\n",
    "            x=grades_list[2]\n",
    "        elif x in range(7,9):\n",
    "            x=grades_list[3]\n",
    "        else: \n",
    "            x=grades_list[4]\n",
    "        grades_classification.append(x)\n",
    "    return grades_classification"
   ]
  },
  {
   "cell_type": "code",
   "execution_count": 4,
   "id": "a562befd",
   "metadata": {},
   "outputs": [
    {
     "data": {
      "text/html": [
       "<div>\n",
       "<style scoped>\n",
       "    .dataframe tbody tr th:only-of-type {\n",
       "        vertical-align: middle;\n",
       "    }\n",
       "\n",
       "    .dataframe tbody tr th {\n",
       "        vertical-align: top;\n",
       "    }\n",
       "\n",
       "    .dataframe thead th {\n",
       "        text-align: right;\n",
       "    }\n",
       "</style>\n",
       "<table border=\"1\" class=\"dataframe\">\n",
       "  <thead>\n",
       "    <tr style=\"text-align: right;\">\n",
       "      <th></th>\n",
       "      <th>Marks</th>\n",
       "      <th>Grades</th>\n",
       "    </tr>\n",
       "  </thead>\n",
       "  <tbody>\n",
       "    <tr>\n",
       "      <th>0</th>\n",
       "      <td>9</td>\n",
       "      <td>Excellent</td>\n",
       "    </tr>\n",
       "    <tr>\n",
       "      <th>1</th>\n",
       "      <td>1</td>\n",
       "      <td>Very unsatisfactory</td>\n",
       "    </tr>\n",
       "    <tr>\n",
       "      <th>2</th>\n",
       "      <td>7</td>\n",
       "      <td>Good</td>\n",
       "    </tr>\n",
       "    <tr>\n",
       "      <th>3</th>\n",
       "      <td>6</td>\n",
       "      <td>Satisfactory</td>\n",
       "    </tr>\n",
       "    <tr>\n",
       "      <th>4</th>\n",
       "      <td>7</td>\n",
       "      <td>Good</td>\n",
       "    </tr>\n",
       "    <tr>\n",
       "      <th>5</th>\n",
       "      <td>8</td>\n",
       "      <td>Good</td>\n",
       "    </tr>\n",
       "    <tr>\n",
       "      <th>6</th>\n",
       "      <td>3</td>\n",
       "      <td>Unsatisfactory</td>\n",
       "    </tr>\n",
       "    <tr>\n",
       "      <th>7</th>\n",
       "      <td>4</td>\n",
       "      <td>Unsatisfactory</td>\n",
       "    </tr>\n",
       "    <tr>\n",
       "      <th>8</th>\n",
       "      <td>1</td>\n",
       "      <td>Very unsatisfactory</td>\n",
       "    </tr>\n",
       "    <tr>\n",
       "      <th>9</th>\n",
       "      <td>8</td>\n",
       "      <td>Good</td>\n",
       "    </tr>\n",
       "    <tr>\n",
       "      <th>10</th>\n",
       "      <td>4</td>\n",
       "      <td>Unsatisfactory</td>\n",
       "    </tr>\n",
       "    <tr>\n",
       "      <th>11</th>\n",
       "      <td>8</td>\n",
       "      <td>Good</td>\n",
       "    </tr>\n",
       "    <tr>\n",
       "      <th>12</th>\n",
       "      <td>9</td>\n",
       "      <td>Excellent</td>\n",
       "    </tr>\n",
       "    <tr>\n",
       "      <th>13</th>\n",
       "      <td>4</td>\n",
       "      <td>Unsatisfactory</td>\n",
       "    </tr>\n",
       "    <tr>\n",
       "      <th>14</th>\n",
       "      <td>8</td>\n",
       "      <td>Good</td>\n",
       "    </tr>\n",
       "    <tr>\n",
       "      <th>15</th>\n",
       "      <td>9</td>\n",
       "      <td>Excellent</td>\n",
       "    </tr>\n",
       "    <tr>\n",
       "      <th>16</th>\n",
       "      <td>6</td>\n",
       "      <td>Satisfactory</td>\n",
       "    </tr>\n",
       "    <tr>\n",
       "      <th>17</th>\n",
       "      <td>6</td>\n",
       "      <td>Satisfactory</td>\n",
       "    </tr>\n",
       "    <tr>\n",
       "      <th>18</th>\n",
       "      <td>9</td>\n",
       "      <td>Excellent</td>\n",
       "    </tr>\n",
       "    <tr>\n",
       "      <th>19</th>\n",
       "      <td>5</td>\n",
       "      <td>Satisfactory</td>\n",
       "    </tr>\n",
       "    <tr>\n",
       "      <th>20</th>\n",
       "      <td>4</td>\n",
       "      <td>Unsatisfactory</td>\n",
       "    </tr>\n",
       "    <tr>\n",
       "      <th>21</th>\n",
       "      <td>4</td>\n",
       "      <td>Unsatisfactory</td>\n",
       "    </tr>\n",
       "    <tr>\n",
       "      <th>22</th>\n",
       "      <td>7</td>\n",
       "      <td>Good</td>\n",
       "    </tr>\n",
       "    <tr>\n",
       "      <th>23</th>\n",
       "      <td>9</td>\n",
       "      <td>Excellent</td>\n",
       "    </tr>\n",
       "    <tr>\n",
       "      <th>24</th>\n",
       "      <td>6</td>\n",
       "      <td>Satisfactory</td>\n",
       "    </tr>\n",
       "    <tr>\n",
       "      <th>25</th>\n",
       "      <td>5</td>\n",
       "      <td>Satisfactory</td>\n",
       "    </tr>\n",
       "    <tr>\n",
       "      <th>26</th>\n",
       "      <td>2</td>\n",
       "      <td>Very unsatisfactory</td>\n",
       "    </tr>\n",
       "    <tr>\n",
       "      <th>27</th>\n",
       "      <td>4</td>\n",
       "      <td>Unsatisfactory</td>\n",
       "    </tr>\n",
       "    <tr>\n",
       "      <th>28</th>\n",
       "      <td>6</td>\n",
       "      <td>Satisfactory</td>\n",
       "    </tr>\n",
       "    <tr>\n",
       "      <th>29</th>\n",
       "      <td>9</td>\n",
       "      <td>Excellent</td>\n",
       "    </tr>\n",
       "    <tr>\n",
       "      <th>30</th>\n",
       "      <td>2</td>\n",
       "      <td>Very unsatisfactory</td>\n",
       "    </tr>\n",
       "    <tr>\n",
       "      <th>31</th>\n",
       "      <td>5</td>\n",
       "      <td>Satisfactory</td>\n",
       "    </tr>\n",
       "    <tr>\n",
       "      <th>32</th>\n",
       "      <td>9</td>\n",
       "      <td>Excellent</td>\n",
       "    </tr>\n",
       "    <tr>\n",
       "      <th>33</th>\n",
       "      <td>2</td>\n",
       "      <td>Very unsatisfactory</td>\n",
       "    </tr>\n",
       "    <tr>\n",
       "      <th>34</th>\n",
       "      <td>2</td>\n",
       "      <td>Very unsatisfactory</td>\n",
       "    </tr>\n",
       "    <tr>\n",
       "      <th>35</th>\n",
       "      <td>0</td>\n",
       "      <td>Very unsatisfactory</td>\n",
       "    </tr>\n",
       "    <tr>\n",
       "      <th>36</th>\n",
       "      <td>8</td>\n",
       "      <td>Good</td>\n",
       "    </tr>\n",
       "    <tr>\n",
       "      <th>37</th>\n",
       "      <td>9</td>\n",
       "      <td>Excellent</td>\n",
       "    </tr>\n",
       "    <tr>\n",
       "      <th>38</th>\n",
       "      <td>2</td>\n",
       "      <td>Very unsatisfactory</td>\n",
       "    </tr>\n",
       "    <tr>\n",
       "      <th>39</th>\n",
       "      <td>8</td>\n",
       "      <td>Good</td>\n",
       "    </tr>\n",
       "    <tr>\n",
       "      <th>40</th>\n",
       "      <td>3</td>\n",
       "      <td>Unsatisfactory</td>\n",
       "    </tr>\n",
       "    <tr>\n",
       "      <th>41</th>\n",
       "      <td>3</td>\n",
       "      <td>Unsatisfactory</td>\n",
       "    </tr>\n",
       "    <tr>\n",
       "      <th>42</th>\n",
       "      <td>5</td>\n",
       "      <td>Satisfactory</td>\n",
       "    </tr>\n",
       "    <tr>\n",
       "      <th>43</th>\n",
       "      <td>7</td>\n",
       "      <td>Good</td>\n",
       "    </tr>\n",
       "    <tr>\n",
       "      <th>44</th>\n",
       "      <td>1</td>\n",
       "      <td>Very unsatisfactory</td>\n",
       "    </tr>\n",
       "    <tr>\n",
       "      <th>45</th>\n",
       "      <td>5</td>\n",
       "      <td>Satisfactory</td>\n",
       "    </tr>\n",
       "    <tr>\n",
       "      <th>46</th>\n",
       "      <td>0</td>\n",
       "      <td>Very unsatisfactory</td>\n",
       "    </tr>\n",
       "    <tr>\n",
       "      <th>47</th>\n",
       "      <td>3</td>\n",
       "      <td>Unsatisfactory</td>\n",
       "    </tr>\n",
       "    <tr>\n",
       "      <th>48</th>\n",
       "      <td>5</td>\n",
       "      <td>Satisfactory</td>\n",
       "    </tr>\n",
       "    <tr>\n",
       "      <th>49</th>\n",
       "      <td>1</td>\n",
       "      <td>Very unsatisfactory</td>\n",
       "    </tr>\n",
       "  </tbody>\n",
       "</table>\n",
       "</div>"
      ],
      "text/plain": [
       "    Marks               Grades\n",
       "0       9            Excellent\n",
       "1       1  Very unsatisfactory\n",
       "2       7                 Good\n",
       "3       6         Satisfactory\n",
       "4       7                 Good\n",
       "5       8                 Good\n",
       "6       3       Unsatisfactory\n",
       "7       4       Unsatisfactory\n",
       "8       1  Very unsatisfactory\n",
       "9       8                 Good\n",
       "10      4       Unsatisfactory\n",
       "11      8                 Good\n",
       "12      9            Excellent\n",
       "13      4       Unsatisfactory\n",
       "14      8                 Good\n",
       "15      9            Excellent\n",
       "16      6         Satisfactory\n",
       "17      6         Satisfactory\n",
       "18      9            Excellent\n",
       "19      5         Satisfactory\n",
       "20      4       Unsatisfactory\n",
       "21      4       Unsatisfactory\n",
       "22      7                 Good\n",
       "23      9            Excellent\n",
       "24      6         Satisfactory\n",
       "25      5         Satisfactory\n",
       "26      2  Very unsatisfactory\n",
       "27      4       Unsatisfactory\n",
       "28      6         Satisfactory\n",
       "29      9            Excellent\n",
       "30      2  Very unsatisfactory\n",
       "31      5         Satisfactory\n",
       "32      9            Excellent\n",
       "33      2  Very unsatisfactory\n",
       "34      2  Very unsatisfactory\n",
       "35      0  Very unsatisfactory\n",
       "36      8                 Good\n",
       "37      9            Excellent\n",
       "38      2  Very unsatisfactory\n",
       "39      8                 Good\n",
       "40      3       Unsatisfactory\n",
       "41      3       Unsatisfactory\n",
       "42      5         Satisfactory\n",
       "43      7                 Good\n",
       "44      1  Very unsatisfactory\n",
       "45      5         Satisfactory\n",
       "46      0  Very unsatisfactory\n",
       "47      3       Unsatisfactory\n",
       "48      5         Satisfactory\n",
       "49      1  Very unsatisfactory"
      ]
     },
     "metadata": {},
     "output_type": "display_data"
    }
   ],
   "source": [
    "import pandas as pd\n",
    "\n",
    "marks_and_grades=pd.DataFrame({'Marks': marks, 'Grades': grades_classificator(marks)})\n",
    "display(marks_and_grades)"
   ]
  },
  {
   "cell_type": "code",
   "execution_count": 5,
   "id": "8126e199",
   "metadata": {},
   "outputs": [
    {
     "data": {
      "image/png": "[encoded data removed]",
      "text/plain": [
       "<Figure size 492.625x360 with 1 Axes>"
      ]
     },
     "metadata": {
      "needs_background": "light"
     },
     "output_type": "display_data"
    }
   ],
   "source": [
    "import seaborn as sns\n",
    "\n",
    "ax=sns.displot(data=marks_and_grades, x='Marks', hue='Grades', bins=10)"
   ]
  },
  {
   "cell_type": "markdown",
   "id": "67d42028",
   "metadata": {},
   "source": [
    "We observe that most of the students that obtained a *Unsatisfactory* mark got a mark below 2. Also interesting, that more than half of the students passed the exam."
   ]
  },
  {
   "cell_type": "markdown",
   "id": "b1840469",
   "metadata": {},
   "source": [
    "# Task 2 <a class=\"anchor\" id=\"Ex2\"></a>"
   ]
  },
  {
   "cell_type": "markdown",
   "id": "6989f5ca",
   "metadata": {},
   "source": [
    "### Objective: Create a program where two numbers are asked to the user, and classify it"
   ]
  },
  {
   "cell_type": "code",
   "execution_count": 6,
   "id": "1e5618f0",
   "metadata": {},
   "outputs": [],
   "source": [
    "def get_numbers():\n",
    "    '''\n",
    "    This function asks to the user two numbers and classifies them. \n",
    "    \n",
    "    Parameters\n",
    "    ----------\n",
    "    number_1: First number asked to the user.\n",
    "    number_2: Second number asked to the user.\n",
    "    -------\n",
    "    Returns \n",
    "    -------\n",
    "    Print: whether number_1 is larger/smaller or equal to number_2 \n",
    "    \n",
    "    '''\n",
    "    try:\n",
    "        number_1=input('Enter the first number:')\n",
    "        number_2=input('Enter the second number:')\n",
    "        \n",
    "        if int(number_1)>int(number_2):\n",
    "            print(str(number_1)+' is larger than '+str(number_2))\n",
    "        elif int(number_1)<int(number_2):\n",
    "            print(str(number_1)+' is smaller than '+str(number_2))\n",
    "        else:\n",
    "            print(str(number_1)+' is equal to '+str(number_2))\n",
    "    except: \n",
    "        print('Error because '+ str(number_1)+' and/or '+str(number_2)+' is not a number')"
   ]
  },
  {
   "cell_type": "markdown",
   "id": "2ed173d8",
   "metadata": {},
   "source": [
    "Verification:"
   ]
  },
  {
   "cell_type": "code",
   "execution_count": 7,
   "id": "1184fa3f",
   "metadata": {},
   "outputs": [
    {
     "name": "stdout",
     "output_type": "stream",
     "text": [
      "Enter the first number:1\n",
      "Enter the second number:2\n",
      "1 is smaller than 2\n"
     ]
    }
   ],
   "source": [
    "get_numbers()"
   ]
  },
  {
   "cell_type": "code",
   "execution_count": 8,
   "id": "90af3943",
   "metadata": {},
   "outputs": [
    {
     "name": "stdout",
     "output_type": "stream",
     "text": [
      "Enter the first number:2\n",
      "Enter the second number:1\n",
      "2 is larger than 1\n"
     ]
    }
   ],
   "source": [
    "get_numbers()"
   ]
  },
  {
   "cell_type": "code",
   "execution_count": 9,
   "id": "6719ca61",
   "metadata": {},
   "outputs": [
    {
     "name": "stdout",
     "output_type": "stream",
     "text": [
      "Enter the first number:1\n",
      "Enter the second number:1\n",
      "1 is equal to 1\n"
     ]
    }
   ],
   "source": [
    "get_numbers()"
   ]
  },
  {
   "cell_type": "code",
   "execution_count": 10,
   "id": "2e599a9a",
   "metadata": {},
   "outputs": [
    {
     "name": "stdout",
     "output_type": "stream",
     "text": [
      "Enter the first number:1\n",
      "Enter the second number:cat\n",
      "Error because 1 and/or cat is not a number\n"
     ]
    }
   ],
   "source": [
    "get_numbers()"
   ]
  },
  {
   "cell_type": "markdown",
   "id": "76fd5190",
   "metadata": {},
   "source": [
    "# Task 3 <a class=\"anchor\" id=\"Ex3\"></a>"
   ]
  },
  {
   "cell_type": "markdown",
   "id": "fe82fcca",
   "metadata": {},
   "source": [
    "### Objective:  Create a program where a name and a number are asked to the user, and gives the name multiplied by the number. "
   ]
  },
  {
   "cell_type": "code",
   "execution_count": 11,
   "id": "81148424",
   "metadata": {},
   "outputs": [],
   "source": [
    "def name_pernumber():\n",
    "    '''\n",
    "    This function asks to the user his name and a number, and multiplies the name per the number.\n",
    "    \n",
    "    Parameters\n",
    "    ----------\n",
    "    name: Name of the user. \n",
    "    number: Number asked to the user. It must be integer\n",
    "    -------\n",
    "    Returns \n",
    "    -------\n",
    "    Print: The name multiplied by the number.  \n",
    "    \n",
    "    '''   \n",
    "    try:\n",
    "        name=input('Write your name:')\n",
    "        number_=input('Write a number:')\n",
    "        print(int(number_)*(str(' ')+str(name)))\n",
    "    except:\n",
    "        print(f\"Unexpected error\")"
   ]
  },
  {
   "cell_type": "markdown",
   "id": "04d48781",
   "metadata": {},
   "source": [
    "Verify:"
   ]
  },
  {
   "cell_type": "code",
   "execution_count": 12,
   "id": "855dda94",
   "metadata": {},
   "outputs": [
    {
     "name": "stdout",
     "output_type": "stream",
     "text": [
      "Write your name:Jose\n",
      "Write a number:7\n",
      " Jose Jose Jose Jose Jose Jose Jose\n"
     ]
    }
   ],
   "source": [
    "name_pernumber()"
   ]
  },
  {
   "cell_type": "code",
   "execution_count": 13,
   "id": "50af0986",
   "metadata": {},
   "outputs": [
    {
     "name": "stdout",
     "output_type": "stream",
     "text": [
      "Write your name:Jose\n",
      "Write a number:cat\n",
      "Unexpected error\n"
     ]
    }
   ],
   "source": [
    "name_pernumber()"
   ]
  },
  {
   "cell_type": "markdown",
   "id": "ed220753",
   "metadata": {},
   "source": [
    "# Task 4 <a class=\"anchor\" id=\"Ex4\"></a>"
   ]
  },
  {
   "cell_type": "markdown",
   "id": "586494f5",
   "metadata": {},
   "source": [
    "### Objective:  Verify if a certain list is symmetric or not. "
   ]
  },
  {
   "cell_type": "code",
   "execution_count": 208,
   "id": "6eae6b1c",
   "metadata": {},
   "outputs": [],
   "source": [
    "def is_sym_answ(list_):\n",
    "    '''\n",
    "    This function determines if a list or a matrix of any dimension is symmetric or not.\n",
    "    \n",
    "    Parameters\n",
    "    ----------\n",
    "    list_: List/Matrix that we want to know if is symmetric. \n",
    "    -------\n",
    "    Returns \n",
    "    -------\n",
    "    Symmetric: True, if the list is symmetric; False, if the list is not symmetric. \n",
    "    a: Number of elements\n",
    "    '''\n",
    "    try:\n",
    "        b=np.array(list_)\n",
    "        c=np.transpose(b)\n",
    "        Symmetric=np.allclose(b,c) #Boolean. True if Symmetric, False if Not. \n",
    "        a=b.shape[0]*b.shape[1] # Number of elements\n",
    "        if (Symmetric==True):\n",
    "            print('The list is symmetric with '+str(a)+' elements')\n",
    "        else:\n",
    "            print('The list is not symmetric')\n",
    "    except: \n",
    "        list_reverted=list(reversed(list_))\n",
    "        a=len(list_)\n",
    "        Symmetric=(list_==list_reverted)\n",
    "        if Symmetric==True:\n",
    "            print('The list is symmetric with '+str(a)+' elements')\n",
    "        else:\n",
    "            print('The list is not symmetric')"
   ]
  },
  {
   "cell_type": "code",
   "execution_count": 194,
   "id": "2605bff8",
   "metadata": {},
   "outputs": [],
   "source": [
    "#Lists to test our function:\n",
    "list1=[1,2,3,4,5,4,3,2,1] #Expected: Sym\n",
    "list2=[1,'cat',0] #Expected: No Sym\n",
    "list3=[[1,0],[0,1]] #Expected: Sym\n",
    "list4=[[1,2], [3,4]] #Expected: No Sym"
   ]
  },
  {
   "cell_type": "code",
   "execution_count": 209,
   "id": "8143e048",
   "metadata": {},
   "outputs": [
    {
     "name": "stdout",
     "output_type": "stream",
     "text": [
      "The list is not symmetric\n"
     ]
    }
   ],
   "source": [
    "is_sym_answ(list2)"
   ]
  },
  {
   "cell_type": "markdown",
   "id": "1c0efa0a",
   "metadata": {},
   "source": [
    "# Task 5 <a class=\"anchor\" id=\"Ex5\"></a>"
   ]
  },
  {
   "cell_type": "markdown",
   "id": "67aaab80",
   "metadata": {},
   "source": [
    "### Objective: Determine if the numbers of a given list, coincide with theis position in the list"
   ]
  },
  {
   "cell_type": "code",
   "execution_count": 18,
   "id": "67710e1f",
   "metadata": {},
   "outputs": [],
   "source": [
    "test=[0,1,2,3,4,5,7,9,22] # Test list that we will use to test our function."
   ]
  },
  {
   "cell_type": "code",
   "execution_count": 19,
   "id": "e9723669",
   "metadata": {},
   "outputs": [],
   "source": [
    "def position_equal_to_element(list):\n",
    "    '''\n",
    "    This function determines if the numbers of a list are equal to theis position in the list. \n",
    "    \n",
    "    Parameters\n",
    "    ----------\n",
    "    list: List that we want to inspect. \n",
    "    -------\n",
    "    Returns \n",
    "    -------\n",
    "    new_list: List with the elements where the numbers of list coincide with their position.\n",
    "    \n",
    "    '''\n",
    "    new_list=[]\n",
    "    for element in list:\n",
    "        if list.index(element)==element:\n",
    "            new_list.append(element)\n",
    "    return new_list"
   ]
  },
  {
   "cell_type": "code",
   "execution_count": 20,
   "id": "da1604a6",
   "metadata": {},
   "outputs": [
    {
     "data": {
      "text/plain": [
       "[0, 1, 2, 3, 4, 5]"
      ]
     },
     "execution_count": 20,
     "metadata": {},
     "output_type": "execute_result"
    }
   ],
   "source": [
    "position_equal_to_element(test)"
   ]
  }
 ],
 "metadata": {
  "kernelspec": {
   "display_name": "Python 3 (ipykernel)",
   "language": "python",
   "name": "python3"
  },
  "language_info": {
   "codemirror_mode": {
    "name": "ipython",
    "version": 3
   },
   "file_extension": ".py",
   "mimetype": "text/x-python",
   "name": "python",
   "nbconvert_exporter": "python",
   "pygments_lexer": "ipython3",
   "version": "3.9.12"
  }
 },
 "nbformat": 4,
 "nbformat_minor": 5
}
